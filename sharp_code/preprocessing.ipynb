{
 "cells": [
  {
   "cell_type": "code",
   "execution_count": 12,
   "metadata": {},
   "outputs": [],
   "source": [
    "import argparse\n",
    "import numpy as np\n",
    "import scipy.io as sio\n",
    "from os import listdir\n",
    "import joblib\n",
    "import pandas as pd\n",
    "import os\n",
    "import pickle"
   ]
  },
  {
   "cell_type": "code",
   "execution_count": 15,
   "metadata": {},
   "outputs": [],
   "source": []
  },
  {
   "cell_type": "code",
   "execution_count": 36,
   "metadata": {},
   "outputs": [],
   "source": [
    "# preprocessing the input combine files: \n",
    "dir_path = os.path.abspath('./input_combine/semi')\n",
    "save_path = os.path.abspath('./preprocessing/semi')\n",
    "dir_files= os.listdir(dir_path)\n",
    "for i in dir_files:\n",
    "    os.makedirs(f'{save_path}/{i}', exist_ok=True)\n",
    "    files_path = f'{dir_path}/{i}'\n",
    "    files = os.listdir(files_path)\n",
    "    for j in files:\n",
    "        path = f'{dir_path}/{i}/{j}'\n",
    "        with open(path, 'rb') as f:\n",
    "                csi_buff = pickle.load(f)\n",
    "        \n",
    "        csi_buff = csi_buff.iloc[:, :]\n",
    "        length = csi_buff.shape[0]\n",
    "        length2 = csi_buff.shape[1]\n",
    "        csi_buff = np.fft.fftshift(csi_buff, axes=1)\n",
    "        delete_idxs = np.argwhere(np.sum(csi_buff, axis=1) == 0)[:, 0]\n",
    "        csi_buff = np.delete(csi_buff, delete_idxs, axis=0)\n",
    "        n_ss = 1\n",
    "        n_core = 1\n",
    "        n_tot = n_ss * n_core\n",
    "        start =0\n",
    "        end = int(np.floor(csi_buff.shape[0]/n_tot))\n",
    "        signal_complete = np.zeros((csi_buff.shape[1] - delete_idxs.shape[0], end-start, n_tot), dtype=complex)\n",
    "        stream=0\n",
    "        signal_stream = csi_buff[stream:end*n_tot + 1:n_tot, :][start:end, :]\n",
    "        signal_stream = np.delete(signal_stream, delete_idxs, axis=1)\n",
    "        mean_signal = np.mean(np.abs(signal_stream), axis=1, keepdims=True)\n",
    "        H_m = signal_stream/mean_signal\n",
    "        signal_complete[:, :, stream] = H_m.T\n",
    "        with open (f\"{save_path}/{i}/{j}.txt\", 'wb') as f:\n",
    "            pickle.dump(signal_complete, f)\n",
    "      \n",
    "    "
   ]
  },
  {
   "cell_type": "code",
   "execution_count": null,
   "metadata": {},
   "outputs": [],
   "source": [
    "# preprocessing the input combine files: \n",
    "dir_path = os.path.abspath('./input_combine/wild')\n",
    "save_path = os.path.abspath('./preprocessing/wild')\n",
    "dir_files= os.listdir(dir_path)\n",
    "for i in dir_files:\n",
    "    os.makedirs(f'{save_path}/{i}', exist_ok=True)\n",
    "    files_path = f'{dir_path}/{i}'\n",
    "    files = os.listdir(files_path)\n",
    "    for j in files:\n",
    "        path = f'{dir_path}/{i}/{j}'\n",
    "        with open(path, 'rb') as f:\n",
    "                csi_buff = pickle.load(f)\n",
    "        \n",
    "        csi_buff = csi_buff.iloc[:, :]\n",
    "        length = csi_buff.shape[0]\n",
    "        length2 = csi_buff.shape[1]\n",
    "        csi_buff = np.fft.fftshift(csi_buff, axes=1)\n",
    "        delete_idxs = np.argwhere(np.sum(csi_buff, axis=1) == 0)[:, 0]\n",
    "        csi_buff = np.delete(csi_buff, delete_idxs, axis=0)\n",
    "        n_ss = 1\n",
    "        n_core = 1\n",
    "        n_tot = n_ss * n_core\n",
    "        start =0\n",
    "        end = int(np.floor(csi_buff.shape[0]/n_tot))\n",
    "        signal_complete = np.zeros((csi_buff.shape[1] - delete_idxs.shape[0], end-start, n_tot), dtype=complex)\n",
    "        stream=0\n",
    "        signal_stream = csi_buff[stream:end*n_tot + 1:n_tot, :][start:end, :]\n",
    "        signal_stream = np.delete(signal_stream, delete_idxs, axis=1)\n",
    "        mean_signal = np.mean(np.abs(signal_stream), axis=1, keepdims=True)\n",
    "        H_m = signal_stream/mean_signal\n",
    "        signal_complete[:, :, stream] = H_m.T\n",
    "        with open (f\"{save_path}/{i}/{j}.txt\", 'wb') as f:\n",
    "            pickle.dump(signal_complete, f)"
   ]
  }
 ],
 "metadata": {
  "kernelspec": {
   "display_name": "Python 3 (ipykernel)",
   "language": "python",
   "name": "python3"
  },
  "language_info": {
   "codemirror_mode": {
    "name": "ipython",
    "version": 3
   },
   "file_extension": ".py",
   "mimetype": "text/x-python",
   "name": "python",
   "nbconvert_exporter": "python",
   "pygments_lexer": "ipython3",
   "version": "3.11.5"
  }
 },
 "nbformat": 4,
 "nbformat_minor": 2
}
