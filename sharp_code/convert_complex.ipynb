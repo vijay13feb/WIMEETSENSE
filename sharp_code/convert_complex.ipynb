{
 "cells": [
  {
   "cell_type": "code",
   "execution_count": 1,
   "metadata": {},
   "outputs": [],
   "source": [
    "import pandas as pd\n",
    "import math\n",
    "import numpy as np\n",
    "import os\n",
    "import sys\n",
    "import pickle\n",
    "import joblib as jb"
   ]
  },
  {
   "cell_type": "code",
   "execution_count": 2,
   "metadata": {},
   "outputs": [],
   "source": [
    "#/home/vijay/paper_jc/Neurips_raw_csi_data/code/raw_csi\n",
    "save_path = os.path.abspath('./preprocess')\n",
    "dir_path = os.path.abspath('./code/raw_csi')\n",
    "directories = dir_path.split('/')\n",
    "directories.remove(\"sharp_code\")\n",
    "dir_path  = '/'.join(directories)"
   ]
  },
  {
   "cell_type": "code",
   "execution_count": 34,
   "metadata": {},
   "outputs": [],
   "source": [
    "# directory \n",
    "# computing  \n",
    "dir_files= os.listdir(dir_path)\n",
    "amp_files=[]\n",
    "label_files=[]\n",
    "for i in dir_files: \n",
    "\n",
    "    files= os.listdir(f'{dir_path}/{i}')\n",
    "\n",
    "    for j in files:\n",
    "        \n",
    "        result = pd.read_csv(f'{dir_path}/{i}/{j}')\n",
    "        len_= result.shape[0]\n",
    "        len_=int(abs(0.03*len_))\n",
    "        result=result.iloc[len_:-len_, 128:] # remove first 128 rows.\n",
    "        new_data = result.iloc[:, :-2] \n",
    "        new_data.columns= range(len(new_data.columns))\n",
    "        delete_idxs =  np.asarray([0,1,2,3,118,119,120,121,122,123,124,125,126,127,128,129,130,131,132,133,134,135,136,137,138,139,254,255])\n",
    "        new_data = new_data.drop(new_data.columns[delete_idxs], axis=1)\n",
    "        new_data.columns= range(len(new_data.columns))\n",
    "    \n",
    "        ct=[]\n",
    "        for K in range(1, new_data.shape[1], 2):\n",
    "            complex_val = new_data[K] + 1j * new_data[K-1]\n",
    "            ct.append(complex_val) \n",
    "\n",
    "        final_ans = pd.concat(ct,axis=1)\n",
    "\n",
    "        final_ans[\"headlabel\"] = result[\"headlabel\"]\n",
    "        complete_path = f'{save_path}/{i}/{j[:-4]}.txt'\n",
    "        with open (complete_path, 'wb') as f:\n",
    "            pickle.dump(final_ans, f)"
   ]
  }
 ],
 "metadata": {
  "kernelspec": {
   "display_name": "Python 3 (ipykernel)",
   "language": "python",
   "name": "python3"
  },
  "language_info": {
   "codemirror_mode": {
    "name": "ipython",
    "version": 3
   },
   "file_extension": ".py",
   "mimetype": "text/x-python",
   "name": "python",
   "nbconvert_exporter": "python",
   "pygments_lexer": "ipython3",
   "version": "3.9.19"
  }
 },
 "nbformat": 4,
 "nbformat_minor": 2
}
